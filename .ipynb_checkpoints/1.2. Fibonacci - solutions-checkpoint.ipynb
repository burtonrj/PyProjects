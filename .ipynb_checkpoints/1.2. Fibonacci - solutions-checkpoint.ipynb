{
 "cells": [
  {
   "cell_type": "markdown",
   "metadata": {},
   "source": [
    "<h1>Fibonacci - create a program that generates the <i>nth</i> fibonacci number, can deduce the golden ratio, and visualise the fibonacci sequence</h1>"
   ]
  },
  {
   "cell_type": "markdown",
   "metadata": {},
   "source": [
    "<h2>Tests</h2>"
   ]
  },
  {
   "cell_type": "code",
   "execution_count": 1,
   "metadata": {},
   "outputs": [],
   "source": [
    "import random\n",
    "def test_fibo(f: callable, tests: int = 100) -> bool:\n",
    "    \"\"\"\n",
    "    Test that the given function 'f' generates the correct fibonacci number at index 'n'\n",
    "    \n",
    "    Parameters\n",
    "    ----------\n",
    "    f: callable\n",
    "        Some function that should generate the nth fibonacci number\n",
    "    tests: int\n",
    "        Number of tests to perform\n",
    "    \n",
    "    Return\n",
    "    ------\n",
    "    bool\n",
    "        True if all tests pass, otherwise False\n",
    "    \"\"\"\n",
    "    fibo_n = [0, 1, 1, 2, 3, 5, 8, 13, 21, 34, 55, 89, 144, \n",
    "              233, 377, 610, 987, 1597, 2584, 4181, 6765, \n",
    "              10946, 17711, 28657, 46368, 75025, 121393, \n",
    "              196418, 317811]\n",
    "    test_results = list()\n",
    "    for i in range(tests):\n",
    "        i = random.choice(list(range(len(fibo_n))))\n",
    "        if f(i) == fibo_n[i]:\n",
    "            continue\n",
    "        return False\n",
    "    return True"
   ]
  },
  {
   "cell_type": "markdown",
   "metadata": {},
   "source": [
    "<h2>Basic Solution</h2>"
   ]
  },
  {
   "cell_type": "code",
   "execution_count": 2,
   "metadata": {},
   "outputs": [
    {
     "name": "stdout",
     "output_type": "stream",
     "text": [
      "How many terms? 5\n",
      "Fibonacci sequence:\n",
      "0\n",
      "1\n",
      "1\n",
      "2\n",
      "3\n"
     ]
    }
   ],
   "source": [
    "# Program to display the Fibonacci sequence up to n-th term\n",
    "nterms = int(input(\"How many terms? \"))\n",
    "\n",
    "# first two terms\n",
    "n1, n2 = 0, 1\n",
    "count = 0\n",
    "\n",
    "# check if the number of terms is valid\n",
    "if nterms <= 0:\n",
    "    print(\"Please enter a positive integer\")\n",
    "elif nterms == 1:\n",
    "    print(\"Fibonacci sequence upto\",nterms,\":\")\n",
    "    print(n1)\n",
    "else:\n",
    "    print(\"Fibonacci sequence:\")\n",
    "    while count < nterms:\n",
    "        print(n1)\n",
    "        nth = n1 + n2\n",
    "        # update values\n",
    "        n1 = n2\n",
    "        n2 = nth\n",
    "        count += 1"
   ]
  },
  {
   "cell_type": "markdown",
   "metadata": {},
   "source": [
    "<h2>Functional solution</h2>"
   ]
  },
  {
   "cell_type": "code",
   "execution_count": 3,
   "metadata": {},
   "outputs": [],
   "source": [
    "def fibonacci(n):\n",
    "    \"\"\"\n",
    "    Generates the nth fibonacci number\n",
    "    \n",
    "    Parameters\n",
    "    ----------\n",
    "    n: int\n",
    "        index of fibonacci number to generate\n",
    "    \n",
    "    Return\n",
    "    ------\n",
    "    int\n",
    "        nth fibonacci number\n",
    "    \"\"\"\n",
    "    if n == 0:\n",
    "        return 0\n",
    "    if n > 0 and n <=2:\n",
    "        return 1\n",
    "    n1, n2 = 0, 1\n",
    "    for i in range(n):\n",
    "        nth = n1 + n2\n",
    "        n1 = n2\n",
    "        n2 = nth\n",
    "    return n1"
   ]
  },
  {
   "cell_type": "code",
   "execution_count": 4,
   "metadata": {},
   "outputs": [],
   "source": [
    "def fibonacci_robust(n):\n",
    "    \"\"\"\n",
    "    Generates the nth fibonacci number (performs error checks prior to calculation)\n",
    "    \n",
    "    Parameters\n",
    "    ----------\n",
    "    n: int\n",
    "        index of fibonacci number to generate\n",
    "    \n",
    "    Return\n",
    "    ------\n",
    "    int\n",
    "        nth fibonacci number\n",
    "    \"\"\"\n",
    "    assert type(n) == int, 'Invalid input, must be a positive integer'\n",
    "    assert n > 0, 'Invalid input'\n",
    "    if n == 0:\n",
    "        return 0\n",
    "    if n > 0 and n <=2:\n",
    "        return 1\n",
    "    n1, n2 = 0, 1\n",
    "    for i in range(n):\n",
    "        nth = n1 + n2\n",
    "        n1 = n2\n",
    "        n2 = nth\n",
    "    return n1"
   ]
  },
  {
   "cell_type": "markdown",
   "metadata": {},
   "source": [
    "<h2>Time the function</h2>"
   ]
  },
  {
   "cell_type": "code",
   "execution_count": 5,
   "metadata": {},
   "outputs": [
    {
     "name": "stdout",
     "output_type": "stream",
     "text": [
      "Input a value for n: 5\n",
      "Processing time: 104492\n"
     ]
    }
   ],
   "source": [
    "from datetime import datetime\n",
    "start = datetime.now()\n",
    "fibonacci_robust(int(input('Input a value for n: ')))\n",
    "end = datetime.now()\n",
    "print(f'Processing time: {(end-start).microseconds}')"
   ]
  },
  {
   "cell_type": "markdown",
   "metadata": {},
   "source": [
    "<h2>Build a class</h2>"
   ]
  },
  {
   "cell_type": "code",
   "execution_count": 6,
   "metadata": {},
   "outputs": [],
   "source": [
    "import matplotlib.pyplot as plt\n",
    "from tqdm.notebook import tqdm"
   ]
  },
  {
   "cell_type": "code",
   "execution_count": 7,
   "metadata": {},
   "outputs": [],
   "source": [
    "class TimeFibo:\n",
    "    \"\"\"\n",
    "    Class for running timing experiments for fibonacci sequence\n",
    "    \n",
    "    Parameters\n",
    "    ----------\n",
    "    times - list of times taken to generate nth fibonacci number\n",
    "    fibo_n - list of nth fibonacci number (in order of call)\n",
    "    \"\"\"\n",
    "    def __init__(self):\n",
    "        self.times = list()\n",
    "        self.fibo_n = list()\n",
    "        \n",
    "    def run_experiment(self, epochs: int = 10, multiplier: int = 2, cutoff: int = 50000000):\n",
    "        \"\"\"\n",
    "        Call fibonacci function multiple times, increasing 'n' each time. Record time taken\n",
    "        to calculate nth fibonacci number\n",
    "        \n",
    "        Parameters\n",
    "        ----------\n",
    "        epochs: int\n",
    "            Number of experiments to run\n",
    "        multiplier: int\n",
    "            Number of times to multiply n by each experiment\n",
    "        cutoff: int\n",
    "            If time ellapsed between function calls exceeds this cutoff, break out of experiment\n",
    "        \"\"\"\n",
    "        self.times = list()\n",
    "        self.fibo_n = list()\n",
    "        \n",
    "        n = 1\n",
    "        print(f'Starting experiment for {epochs} epochs, with a multiplier of {multiplier}')\n",
    "        for i in tqdm(range(epochs)):\n",
    "            n = n * multiplier\n",
    "            self.fibo_n.append(n)\n",
    "            start = datetime.now()\n",
    "            fibonacci(n)\n",
    "            end = datetime.now()\n",
    "            time_elapsed = (end-start).microseconds\n",
    "            self.times.append(time_elapsed)\n",
    "            if time_elapsed >= cutoff:\n",
    "                print('Exceeded cutoff...')\n",
    "                break\n",
    "        print('Experiment Complete!')\n",
    "        \n",
    "    @staticmethod\n",
    "    def fibonacci(n: int):\n",
    "        \"\"\"\n",
    "        Generates the nth fibonacci number (performs error checks prior to calculation)\n",
    "\n",
    "        Parameters\n",
    "        ----------\n",
    "        n: int\n",
    "            index of fibonacci number to generate\n",
    "\n",
    "        Return\n",
    "        ------\n",
    "        int\n",
    "            nth fibonacci number\n",
    "        \"\"\"\n",
    "        assert type(n) == int, 'Invalid input, must be a positive integer'\n",
    "        assert n > 0, 'Invalid input'\n",
    "        if n == 0:\n",
    "            return 0\n",
    "        if n > 0 and n <=2:\n",
    "            return 1\n",
    "        n1, n2 = 0, 1\n",
    "        for i in range(n):\n",
    "            nth = n1 + n2\n",
    "            n1 = n2\n",
    "            n2 = nth\n",
    "        return n1\n",
    "    \n",
    "    def plot_results(self):\n",
    "        \"\"\"\n",
    "        Plot the results of experiment (requires that run_experiment has been called previously)\n",
    "        \"\"\"\n",
    "        assert self.times, 'Run experiment before calling plot_results'\n",
    "        fig, ax = plt.subplots(figsize=(5,5))\n",
    "        ax.plot(self.fibo_n, self.times)\n",
    "        ax.set_xlabel('N')\n",
    "        ax.set_ylabel('Processing time (microseconds)')\n",
    "        plt.show()"
   ]
  },
  {
   "cell_type": "code",
   "execution_count": 8,
   "metadata": {},
   "outputs": [],
   "source": [
    "experiment = TimeFibo()"
   ]
  },
  {
   "cell_type": "code",
   "execution_count": 9,
   "metadata": {},
   "outputs": [
    {
     "name": "stdout",
     "output_type": "stream",
     "text": [
      "Starting experiment for 15 epochs, with a multiplier of 2\n"
     ]
    },
    {
     "data": {
      "application/vnd.jupyter.widget-view+json": {
       "model_id": "a63ecabb780642b686335fb7a7f06741",
       "version_major": 2,
       "version_minor": 0
      },
      "text/plain": [
       "HBox(children=(FloatProgress(value=0.0, max=15.0), HTML(value='')))"
      ]
     },
     "metadata": {},
     "output_type": "display_data"
    },
    {
     "name": "stdout",
     "output_type": "stream",
     "text": [
      "\n",
      "Experiment Complete!\n"
     ]
    }
   ],
   "source": [
    "experiment.run_experiment(epochs=15)"
   ]
  },
  {
   "cell_type": "code",
   "execution_count": 10,
   "metadata": {},
   "outputs": [
    {
     "data": {
      "image/png": "[encoded data removed]",
      "text/plain": [
       "<Figure size 360x360 with 1 Axes>"
      ]
     },
     "metadata": {
      "needs_background": "light"
     },
     "output_type": "display_data"
    }
   ],
   "source": [
    "experiment.plot_results()"
   ]
  },
  {
   "cell_type": "code",
   "execution_count": 47,
   "metadata": {},
   "outputs": [],
   "source": [
    "class TimeFibo:\n",
    "    \"\"\"\n",
    "    Class for running timing experiments for fibonacci sequence\n",
    "    \n",
    "    Parameters\n",
    "    ----------\n",
    "    times\n",
    "        list of times taken to generate nth fibonacci number\n",
    "    fibo_n\n",
    "        list of nth fibonacci number (in order of call)\n",
    "    cache\n",
    "        Cached fibonacci sequenced\n",
    "    \"\"\"\n",
    "    def __init__(self):\n",
    "        self.times = list()\n",
    "        self.fibo_n = list()\n",
    "        self.cache = [0, 1, 1]\n",
    "        \n",
    "    def run_experiment(self, epochs: int = 10, multiplier: int = 2, cutoff: int = 50000000):\n",
    "        \"\"\"\n",
    "        Call fibonacci function multiple times, increasing 'n' each time. Record time taken\n",
    "        to calculate nth fibonacci number\n",
    "        \n",
    "        Parameters\n",
    "        ----------\n",
    "        epochs: int\n",
    "            Number of experiments to run\n",
    "        multiplier: int\n",
    "            Number of times to multiply n by each experiment\n",
    "        cutoff: int\n",
    "            If time ellapsed between function calls exceeds this cutoff, break out of experiment\n",
    "        \"\"\"\n",
    "        self.times = list()\n",
    "        self.fibo_n = list()\n",
    "        \n",
    "        n = 1\n",
    "        print(f'Starting experiment for {epochs} epochs, with a multiplier of {multiplier}')\n",
    "        for i in tqdm(range(epochs)):\n",
    "            n = n * multiplier\n",
    "            self.fibo_n.append(n)\n",
    "            start = datetime.now()\n",
    "            self.fibonacci(n)\n",
    "            end = datetime.now()\n",
    "            time_elapsed = (end-start).microseconds\n",
    "            self.times.append(time_elapsed)\n",
    "            if time_elapsed >= cutoff:\n",
    "                print('Exceeded cutoff...')\n",
    "                break\n",
    "        print('Experiment Complete!')\n",
    "        \n",
    "    def fibonacci(self, n: int):\n",
    "        \"\"\"\n",
    "        Generates the nth fibonacci number (performs error checks prior to calculation)\n",
    "\n",
    "        Parameters\n",
    "        ----------\n",
    "        n: int\n",
    "            index of fibonacci number to generate\n",
    "\n",
    "        Return\n",
    "        ------\n",
    "        int\n",
    "            n\n",
    "        \"\"\"\n",
    "        assert type(n) == int, 'Invalid input, must be a positive integer'\n",
    "        assert n >= 0, 'Invalid input, must be a positive integer'\n",
    "        \n",
    "        n_cache = len(self.cache) - 1\n",
    "        if n <= n_cache:\n",
    "            return self.cache[n]\n",
    "        n1, n2 = self.cache[n_cache - 1], self.cache[n_cache]\n",
    "        for i in range(n_cache-1, n):\n",
    "            nth = n1 + n2\n",
    "            n1 = n2\n",
    "            n2 = nth\n",
    "            self.cache.append(nth)\n",
    "        return nth\n",
    "    \n",
    "    def plot_results(self):\n",
    "        \"\"\"\n",
    "        Plot the results of experiment (requires that run_experiment has been called previously)\n",
    "        \"\"\"\n",
    "        assert self.times, 'Run experiment before calling plot_results'\n",
    "        fig, ax = plt.subplots(figsize=(5,5))\n",
    "        ax.plot(self.fibo_n, self.times)\n",
    "        ax.set_xlabel('N')\n",
    "        ax.set_ylabel('Processing time (microseconds)')\n",
    "        plt.show()"
   ]
  },
  {
   "cell_type": "code",
   "execution_count": 51,
   "metadata": {},
   "outputs": [],
   "source": [
    "experiment = TimeFibo()"
   ]
  },
  {
   "cell_type": "code",
   "execution_count": 52,
   "metadata": {},
   "outputs": [
    {
     "name": "stdout",
     "output_type": "stream",
     "text": [
      "Starting experiment for 15 epochs, with a multiplier of 2\n"
     ]
    },
    {
     "data": {
      "application/vnd.jupyter.widget-view+json": {
       "model_id": "42a3f2c5449046dea816b699819ae364",
       "version_major": 2,
       "version_minor": 0
      },
      "text/plain": [
       "HBox(children=(FloatProgress(value=0.0, max=15.0), HTML(value='')))"
      ]
     },
     "metadata": {},
     "output_type": "display_data"
    },
    {
     "name": "stdout",
     "output_type": "stream",
     "text": [
      "\n",
      "Experiment Complete!\n"
     ]
    }
   ],
   "source": [
    "experiment.run_experiment(epochs=15)"
   ]
  },
  {
   "cell_type": "code",
   "execution_count": 53,
   "metadata": {},
   "outputs": [
    {
     "data": {
      "image/png": "[encoded data removed]",
      "text/plain": [
       "<Figure size 360x360 with 1 Axes>"
      ]
     },
     "metadata": {
      "needs_background": "light"
     },
     "output_type": "display_data"
    }
   ],
   "source": [
    "experiment.plot_results()"
   ]
  },
  {
   "cell_type": "code",
   "execution_count": 54,
   "metadata": {},
   "outputs": [
    {
     "name": "stdout",
     "output_type": "stream",
     "text": [
      "Starting experiment for 15 epochs, with a multiplier of 2\n"
     ]
    },
    {
     "data": {
      "application/vnd.jupyter.widget-view+json": {
       "model_id": "4634a2f589ce4fe8be1d54b51692ddcb",
       "version_major": 2,
       "version_minor": 0
      },
      "text/plain": [
       "HBox(children=(FloatProgress(value=0.0, max=15.0), HTML(value='')))"
      ]
     },
     "metadata": {},
     "output_type": "display_data"
    },
    {
     "name": "stdout",
     "output_type": "stream",
     "text": [
      "\n",
      "Experiment Complete!\n"
     ]
    }
   ],
   "source": [
    "experiment.run_experiment(epochs=15)"
   ]
  },
  {
   "cell_type": "code",
   "execution_count": 55,
   "metadata": {},
   "outputs": [
    {
     "data": {
      "image/png": "[encoded data removed]",
      "text/plain": [
       "<Figure size 360x360 with 1 Axes>"
      ]
     },
     "metadata": {
      "needs_background": "light"
     },
     "output_type": "display_data"
    }
   ],
   "source": [
    "experiment.plot_results()"
   ]
  },
  {
   "cell_type": "markdown",
   "metadata": {},
   "source": [
    "<h2>Generate a sequence with a generator</h2>\n",
    "\n",
    "The code in the sections below was taken from this brilliant blog post: https://blog.anvetsu.com/posts/fibonacci-golden-spiral-matplotlib-python/"
   ]
  },
  {
   "cell_type": "code",
   "execution_count": 63,
   "metadata": {},
   "outputs": [],
   "source": [
    "def fibonacci(n=10):\n",
    "    \"\"\" Generate pairs of fibonacci numbers upto 10 starting with 1,2 ... \"\"\"\n",
    "    a, b = 0,1\n",
    "    for i in range(n):\n",
    "        c = a + b\n",
    "        yield c\n",
    "        a,b=b,c"
   ]
  },
  {
   "cell_type": "code",
   "execution_count": 64,
   "metadata": {},
   "outputs": [],
   "source": [
    "f = list(fibonacci(100))"
   ]
  },
  {
   "cell_type": "code",
   "execution_count": 66,
   "metadata": {},
   "outputs": [
    {
     "data": {
      "text/plain": [
       "1.618033985017358"
      ]
     },
     "execution_count": 66,
     "metadata": {},
     "output_type": "execute_result"
    }
   ],
   "source": [
    "f[20]/f[19]"
   ]
  },
  {
   "cell_type": "markdown",
   "metadata": {},
   "source": [
    "<h2>Golden Curve</h2>"
   ]
  },
  {
   "cell_type": "code",
   "execution_count": 68,
   "metadata": {},
   "outputs": [],
   "source": [
    "def fibonacci(n=10):\n",
    "    \"\"\" Generate pairs of fibonacci numbers upto 10 starting with 1,2 ... \"\"\"\n",
    "\n",
    "    a, b = 0,1\n",
    "    for i in range(n):\n",
    "        c = a + b\n",
    "        yield (c,b)\n",
    "        a,b=b,c"
   ]
  },
  {
   "cell_type": "code",
   "execution_count": 69,
   "metadata": {},
   "outputs": [],
   "source": [
    "def fourth_series(n=10):\n",
    "    \"\"\" Generate 1, 5, 9 ... upto n elements \"\"\"\n",
    "\n",
    "    x = 1\n",
    "    for i in range(n):\n",
    "        yield x\n",
    "        x += 4\n",
    "\n",
    "def sixth_series(n=10):\n",
    "    \"\"\" Generate 4, 10, 16 ... upto n elements \"\"\"\n",
    "\n",
    "    x=4\n",
    "    for i in range(n):\n",
    "        yield x\n",
    "        x += 6"
   ]
  },
  {
   "cell_type": "code",
   "execution_count": 72,
   "metadata": {},
   "outputs": [],
   "source": [
    "import matplotlib.pyplot as plt\n",
    "from matplotlib.patches import Rectangle\n",
    "from matplotlib.collections import PatchCollection\n",
    "from matplotlib.patches import Arc\n",
    "\n",
    "def golden_curve(max_n=10):\n",
    "    \"\"\" Plot the golden curve \"\"\"\n",
    "\n",
    "    # List of fibonacci numbers as (fn, fn-1) pair\n",
    "    fibs = list(fibonacci(max_n))\n",
    "    # Reverse as we need to generate rectangles\n",
    "    # from large -> small\n",
    "    fibs.reverse()\n",
    "\n",
    "    fig, ax = plt.subplots(1)\n",
    "\n",
    "    last_x, last_y = fibs[0]\n",
    "\n",
    "    # Make the plot size large enough to hold\n",
    "    # the largest fibonacci number on both\n",
    "    # x and y-axis.\n",
    "    ax.set_xlim(0, last_x + 10)\n",
    "    ax.set_ylim(0, last_y + 10) \n",
    "    plt.axis('off')\n",
    "\n",
    "    origin = [0, 0]\n",
    "    p = 0\n",
    "\n",
    "    # Data for plotting arcs\n",
    "    arc_points = []\n",
    "    rects = []\n",
    "\n",
    "    # Starting offset angle\n",
    "    angle = 90\n",
    "\n",
    "    for i,(cur_fn, prev_fn) in enumerate(fibs):\n",
    "        if i > max_n: break\n",
    "\n",
    "        # Current arc's radius\n",
    "        arc_radius = cur_fn\n",
    "\n",
    "        if i in fourth_series(max_n):\n",
    "            # Every 4th rectangle from the 2nd\n",
    "            # rectangle onwards has its origin-x\n",
    "            # point shifted by the fibonacci value\n",
    "            origin[0] = origin[0] + cur_fn\n",
    "\n",
    "        elif i in sixth_series(max_n):\n",
    "            # Every 6th rectangle from the 5th\n",
    "            # rectangle onwards has its origin-y\n",
    "            # point shifted by the fibonacci value          \n",
    "            origin[1] = origin[1] + cur_fn\n",
    "            \n",
    "        if i%2 == 0:\n",
    "            # Every 2nd rectangle has its orientation\n",
    "            # switched from lxb to bxl          \n",
    "            cur_fn, prev_fn = prev_fn, cur_fn\n",
    "\n",
    "        rectangle = Rectangle(origin, prev_fn, cur_fn, angle=0.0, antialiased=True)\n",
    "        rects.append(rectangle)\n",
    "        if i == 0: continue\n",
    "        \n",
    "        if i  % 8 == 0:\n",
    "            p += 1\n",
    "            continue\n",
    "\n",
    "        if len(arc_points) == 8: continue\n",
    "\n",
    "        r1 = rectangle\n",
    "        # Calculate the rectangle's co-ordinates\n",
    "        coords = [r1.get_xy(), [r1.get_x()+r1.get_width(), r1.get_y()],\n",
    "                  [r1.get_x()+r1.get_width(), r1.get_y()+r1.get_height()],\n",
    "                  [r1.get_x(), r1.get_y()+r1.get_height()]]\n",
    "\n",
    "        # Successive arcs are centered on the points of rectangles\n",
    "        # which is calculated as the p % 4 the item\n",
    "        arc_points.append((coords[p % 4], arc_radius, angle))\n",
    "        # Every turn of the spiral we go clockwise by 90 degrees\n",
    "        # means the starting angle reduces by 90.\n",
    "        angle -= 90\n",
    "\n",
    "        # Reset to 0\n",
    "        if angle == -360: angle = 0\n",
    "        p += 3\n",
    "            \n",
    "    for center, radius, angle in arc_points:\n",
    "        print('Plotting arc at center',center,'radius',radius, 'angle',angle)\n",
    "        arc = Arc(center, radius*2, radius*2, angle=angle,\n",
    "                  theta1=0, theta2=90.0, edgecolor='black',\n",
    "                  antialiased=True)\n",
    "        ax.add_patch(arc)\n",
    "        \n",
    "    rect_pcs = PatchCollection(rects, facecolor='g', alpha=0.4,\n",
    "                              edgecolor='black')\n",
    "\n",
    "    ax.add_collection(rect_pcs)\n",
    "    \n",
    "    plt.show()"
   ]
  },
  {
   "cell_type": "code",
   "execution_count": 78,
   "metadata": {},
   "outputs": [
    {
     "name": "stdout",
     "output_type": "stream",
     "text": [
      "Plotting arc at center (6765, 0) radius 6765 angle 90\n",
      "Plotting arc at center [6765, 2584] radius 4181 angle 0\n",
      "Plotting arc at center [8362, 2584] radius 2584 angle -90\n",
      "Plotting arc at center [8362, 1597] radius 1597 angle -180\n",
      "Plotting arc at center (7752, 1597) radius 987 angle -270\n",
      "Plotting arc at center [7752, 1974] radius 610 angle 0\n",
      "Plotting arc at center [7985, 1974] radius 377 angle -90\n",
      "Plotting arc at center [7985, 1741] radius 144 angle -180\n"
     ]
    },
    {
     "data": {
      "image/png": "[encoded data removed]",
      "text/plain": [
       "<Figure size 432x288 with 1 Axes>"
      ]
     },
     "metadata": {
      "needs_background": "light"
     },
     "output_type": "display_data"
    }
   ],
   "source": [
    "golden_curve(20)"
   ]
  },
  {
   "cell_type": "code",
   "execution_count": null,
   "metadata": {},
   "outputs": [],
   "source": []
  }
 ],
 "metadata": {
  "kernelspec": {
   "display_name": "Python 3",
   "language": "python",
   "name": "python3"
  },
  "language_info": {
   "codemirror_mode": {
    "name": "ipython",
    "version": 3
   },
   "file_extension": ".py",
   "mimetype": "text/x-python",
   "name": "python",
   "nbconvert_exporter": "python",
   "pygments_lexer": "ipython3",
   "version": "3.6.9"
  },
  "toc": {
   "base_numbering": 1,
   "nav_menu": {},
   "number_sections": true,
   "sideBar": true,
   "skip_h1_title": false,
   "title_cell": "Table of Contents",
   "title_sidebar": "Contents",
   "toc_cell": false,
   "toc_position": {},
   "toc_section_display": true,
   "toc_window_display": false
  }
 },
 "nbformat": 4,
 "nbformat_minor": 4
}
